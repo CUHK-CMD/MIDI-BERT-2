{
 "cells": [
  {
   "cell_type": "code",
   "execution_count": 11,
   "id": "11005990-a5c5-4387-9912-c7c7bf30b70d",
   "metadata": {},
   "outputs": [],
   "source": [
    "import pickle\n",
    "import os\n",
    "import shutil\n",
    "from miditoolkit.midi import parser as mid_parser  \n",
    "from miditoolkit.midi import containers as ct"
   ]
  },
  {
   "cell_type": "code",
   "execution_count": 12,
   "id": "50119a2a-e03a-4f01-9f0f-2cd1c92d708f",
   "metadata": {},
   "outputs": [],
   "source": [
    "def read_midi(path):\n",
    "    mido_obj = mid_parser.MidiFile(path)\n",
    "    tick_per_beat = mido_obj.ticks_per_beat\n",
    "\n",
    "    notes = [] \n",
    "    for instrument in mido_obj.instruments:\n",
    "        for note in instrument.notes:\n",
    "            notes.append(note)\n",
    "\n",
    "    # sort by start time\n",
    "    notes.sort(key=lambda note:note.start)\n",
    "    return notes,tick_per_beat\n",
    "\n",
    "def write_midi(notes,path='out.mid',tick_per_beat=480):\n",
    "    out = mid_parser.MidiFile()\n",
    "    out.ticks_per_beat = tick_per_beat\n",
    "    out.instruments = [ct.Instrument(program=0,is_drum=False,name='post-processed piano')]\n",
    "    for note in notes:\n",
    "        assert(note.velocity)\n",
    "        out.instruments[0].notes.append(ct.Note(start=note.start,end=note.end,pitch=note.pitch,velocity=note.velocity))\n",
    "    out.dump(path)"
   ]
  },
  {
   "cell_type": "code",
   "execution_count": 13,
   "id": "0f23e54c-d618-4f45-92bf-ccda7431fa9b",
   "metadata": {},
   "outputs": [],
   "source": [
    "root = 'LOP_piano&Orchestra_RAW'"
   ]
  },
  {
   "cell_type": "code",
   "execution_count": 10,
   "id": "5b582d0d-bb32-44aa-807b-a549c52a22cd",
   "metadata": {},
   "outputs": [],
   "source": [
    "for f in os.listdir(root):\n",
    "    m,t = read_midi(root+'/'+f+'/'+'orchestra.mid')\n",
    "    write_midi(m,'./custom/'+f+'.mid',t)"
   ]
  },
  {
   "cell_type": "code",
   "execution_count": 20,
   "id": "25320c58-a734-4314-90db-54acf111b832",
   "metadata": {},
   "outputs": [],
   "source": [
    "m,t = read_midi('custom/POP909_001_001.mid')\n",
    "write_midi(m,'out.mid',t)"
   ]
  }
 ],
 "metadata": {
  "kernelspec": {
   "display_name": "Python 3",
   "language": "python",
   "name": "python3"
  },
  "language_info": {
   "codemirror_mode": {
    "name": "ipython",
    "version": 3
   },
   "file_extension": ".py",
   "mimetype": "text/x-python",
   "name": "python",
   "nbconvert_exporter": "python",
   "pygments_lexer": "ipython3",
   "version": "3.6.13"
  }
 },
 "nbformat": 4,
 "nbformat_minor": 5
}
