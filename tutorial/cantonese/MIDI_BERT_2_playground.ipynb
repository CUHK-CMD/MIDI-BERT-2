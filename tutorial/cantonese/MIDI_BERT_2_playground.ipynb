{
  "cells": [
    {
      "cell_type": "markdown",
      "metadata": {
        "id": "19yF-s2NsS5u"
      },
      "source": [
        "# MidiBERT-Piano Playground\n",
        "\n",
        "## Introduction \n",
        "\n",
        "#### 🎉 This is MIDI-BERT-2 playground.\n",
        "This software can arrange music automatically based on user-input melody MIDI files and styles, along with a command-line interface. \n",
        "\n",
        " You can try run our customized pre-trained dataset. Please Input some `.MIDI` file into the algorithm. We will Output \n",
        "\n",
        "\n",
        "1.   Key estimation (can also be specified explicitly by the user)\n",
        "2.   Chord progression estimation (can also be specified explicitly by the user)\n",
        "3.   Perform music editing based on the styles\n",
        "\n",
        "```\n",
        "Disclaimer:\n",
        "This is a university student project (Computer Music Development in CUHK)\n",
        "and it is mainly for learning purpose. \n",
        "Therefore, it is very basic and not a production-ready tool for professionals\n",
        "\n",
        "```"
      ]
    },
    {
      "cell_type": "markdown",
      "metadata": {
        "id": "h1WiBZYCvxWv"
      },
      "source": [
        "# Task1. Data Collection\n"
      ]
    },
    {
      "cell_type": "markdown",
      "metadata": {
        "id": "FxZbo5Ztw6w5"
      },
      "source": [
        "## 1. Download Midi File form [Live Orchestral Piano](https://qsdfo.github.io/LOP/)"
      ]
    },
    {
      "cell_type": "code",
      "execution_count": null,
      "metadata": {
        "id": "WMn8oW97v6Uo"
      },
      "outputs": [],
      "source": [
        "!wget https://qsdfo.github.io/LOP/database/SOD.zip # Get Midi Data from qsdfo\n",
        "!unzip SOD.zip "
      ]
    },
    {
      "cell_type": "markdown",
      "metadata": {
        "id": "Ee5DcwqyxM7_"
      },
      "source": [
        "## 2. Sort 2/4, 3/4, 4/4 Time Signature \n"
      ]
    },
    {
      "cell_type": "code",
      "execution_count": null,
      "metadata": {
        "id": "PvwufTXnwgAd"
      },
      "outputs": [],
      "source": [
        "import re\n",
        "from music21 import converter,instrument,meter,stream # or import *\n",
        "import os\n",
        "import csv  \n",
        "\n",
        "TARGET = ['2/4','3/4','4/4']\n",
        "DEBUG = False\n",
        "\n",
        "music_2_4 = []\n",
        "music_3_4 = []\n",
        "music_4_4 = []\n",
        "\n",
        "def write_csv(open_file, data):\n",
        "    s = open_file+\".csv\"\n",
        "    with open(s, 'w', encoding='UTF8') as f:\n",
        "        writer = csv.writer(f)\n",
        "\n",
        "        # write the header\n",
        "        writer.writerow([\"path\"])\n",
        "\n",
        "        # write the data\n",
        "        writer.writerows(data)\n",
        "\n",
        "def find_files(reg, search_path):\n",
        "    result = []\n",
        "    # Wlaking top-down from the root\n",
        "    for root, dir, files in os.walk(search_path):\n",
        "        x = re.compile(reg)\n",
        "        newlist = list(filter(x.match, files)) # Read Note below\n",
        "        PATH = \"\"\n",
        "        for x in (newlist):\n",
        "            PATH = \"{}/{}\".format(root,x)         \n",
        "        if PATH:\n",
        "            Time_signature(str(PATH), x)\n",
        "    return result\n",
        "\n",
        "\n",
        "def Time_signature(path , x):\n",
        "    try:\n",
        "      s = converter.parse(path)\n",
        "      cnt = []\n",
        "      res = []\n",
        "      ft = s[stream.Part][0]\n",
        "      time_signatures = ft[meter.TimeSignature]\n",
        "      isBreak = True\n",
        "      print(\"************************************start {}\".format(list(time_signatures)))\n",
        "      for time_signature in list(time_signatures):\n",
        "        time_signature = str(time_signature)\n",
        "        print(time_signature)\n",
        "\n",
        "        if time_signature.find('TimeSignature 2/4>') > 0:\n",
        "            cnt.append(1)\n",
        "            \n",
        "        elif  time_signature.find('TimeSignature 3/4>') > 0:\n",
        "            cnt.append(1)\n",
        "            \n",
        "        elif  time_signature.find('TimeSignature 4/4>') > 0:\n",
        "            cnt.append(1)\n",
        "\n",
        "      print(\"999_cnt:{} len:{}\".format(len(cnt), len(time_signatures)))\n",
        "      if len(cnt) != len(time_signatures):\n",
        "        print(\"02_--------->>>>>>>break>>>>>>> {}\".format(list(time_signatures)))\n",
        "        return     \n",
        "\n",
        "      for time_signature in list(time_signatures):\n",
        "          time_signature = str(time_signature)\n",
        "          row = [path]\n",
        "          print(\"--->>>>target timesignature: {}\".format(time_signature))\n",
        "          if '2/4' in time_signature:\n",
        "              print(\"2/4 path:{}\". format(row))\n",
        "              music_2_4.append(row)\n",
        "          elif '3/4' in time_signature:\n",
        "              print(\"3/4 path:{}\". format(row))\n",
        "              music_3_4.append(row)\n",
        "          elif '4/4' in time_signature:\n",
        "              print(\"4/4 path:{}\". format(row))\n",
        "              music_4_4.append(row)\n",
        "      return res\n",
        "    except:\n",
        "      print(\"fail\"+ path)\n",
        "\n",
        "\n",
        "if __name__ == '__main__':\n",
        "    try:\n",
        "      find_files('.*mid$', '/content/SOD/OpenMusicScores') \n",
        "    except:\n",
        "      print(\"fail\")\n",
        "    print(music_2_4)\n",
        "    print(music_3_4)\n",
        "    print(music_4_4)\n",
        "    write_csv(\"2_4\",music_2_4)\n",
        "    write_csv(\"3_4\",music_3_4)\n",
        "    write_csv(\"4_4\",music_4_4)"
      ]
    },
    {
      "cell_type": "markdown",
      "metadata": {
        "id": "u7mif8_yxrFv"
      },
      "source": [
        "\n",
        "## 3. Process [2/4, 3/4, 4/4] Time Signature with .CSV  \n",
        "\n"
      ]
    },
    {
      "cell_type": "code",
      "execution_count": null,
      "metadata": {
        "id": "p4fY8Yclxe7q"
      },
      "outputs": [],
      "source": [
        "!while read -r file; do cp \"$file\" /content/data ; done < music_2_4.csv\n",
        "!while read -r file; do cp \"$file\" /content/data ; done < music_3_4.csv\n",
        "!while read -r file; do cp \"$file\" /content/data ; done < music_4_4.csv\n"
      ]
    },
    {
      "cell_type": "markdown",
      "metadata": {
        "id": "BeiuhPBNyzxY"
      },
      "source": [
        "## 4. If you think it is too waste time. Feel free to download those sorted Data from our [Github](https://github.com/CUHK-CMD/Time-Signature-Detection/tree/main/data/ALLINONEdata)"
      ]
    },
    {
      "cell_type": "code",
      "execution_count": 3,
      "metadata": {
        "colab": {
          "base_uri": "https://localhost:8080/"
        },
        "id": "Pi62kl4SzHR4",
        "outputId": "6cfcb478-3507-422d-9dc0-ce5f16938bab"
      },
      "outputs": [
        {
          "name": "stdout",
          "output_type": "stream",
          "text": [
            "--2022-08-16 13:17:47--  https://github.com/CUHK-CMD/Time-Signature-Detection/raw/main/data/dataa.zip\n",
            "Resolving github.com (github.com)... 140.82.112.4\n",
            "Connecting to github.com (github.com)|140.82.112.4|:443... connected.\n",
            "HTTP request sent, awaiting response... 404 Not Found\n",
            "2022-08-16 13:17:47 ERROR 404: Not Found.\n",
            "\n",
            "unzip:  cannot find or open dataa.zip, dataa.zip.zip or dataa.zip.ZIP.\n"
          ]
        }
      ],
      "source": [
        "!wget https://github.com/CUHK-CMD/Time-Signature-Detection/raw/main/data/dataa.zip\n",
        "!unzip dataa.zip "
      ]
    },
    {
      "cell_type": "markdown",
      "metadata": {
        "id": "osV3Cu_OzqLJ"
      },
      "source": [
        "# Task 2. Data Tokenization and Preprocessing\n",
        "\n",
        "## Data Tokenization\n",
        "  we are using [finetuning-stable](https://github.com/CUHK-CMD/MIDI-BERT-2/blob/finetuning-stable/dict/make_dict.py) for token definition and generate new pickle file\n",
        "\n",
        "  "
      ]
    },
    {
      "cell_type": "markdown",
      "metadata": {},
      "source": [
        "### install requirements"
      ]
    },
    {
      "cell_type": "code",
      "execution_count": 7,
      "metadata": {},
      "outputs": [
        {
          "name": "stdout",
          "output_type": "stream",
          "text": [
            "Collecting numpy>=1.13.3\n",
            "  Downloading numpy-1.23.2-cp39-cp39-macosx_10_9_x86_64.whl (18.1 MB)\n",
            "\u001b[2K     \u001b[90m━━━━━━━━━━━━━━━━━━━━━━━━━━━━━━━━━━━━━━━━\u001b[0m \u001b[32m18.1/18.1 MB\u001b[0m \u001b[31m38.8 MB/s\u001b[0m eta \u001b[36m0:00:00\u001b[0m00:01\u001b[0m00:01\u001b[0m\n",
            "\u001b[?25hCollecting matplotlib>=3.3.3\n",
            "  Downloading matplotlib-3.5.3-cp39-cp39-macosx_10_9_x86_64.whl (7.3 MB)\n",
            "\u001b[2K     \u001b[90m━━━━━━━━━━━━━━━━━━━━━━━━━━━━━━━━━━━━━━━━\u001b[0m \u001b[32m7.3/7.3 MB\u001b[0m \u001b[31m37.1 MB/s\u001b[0m eta \u001b[36m0:00:00\u001b[0m00:01\u001b[0m00:01\u001b[0m\n",
            "\u001b[?25hCollecting mido==1.2.10\n",
            "  Downloading mido-1.2.10-py2.py3-none-any.whl (51 kB)\n",
            "\u001b[2K     \u001b[90m━━━━━━━━━━━━━━━━━━━━━━━━━━━━━━━━━━━━━━━━\u001b[0m \u001b[32m51.1/51.1 kB\u001b[0m \u001b[31m1.7 MB/s\u001b[0m eta \u001b[36m0:00:00\u001b[0m\n",
            "\u001b[?25hCollecting torch>=1.3.1\n",
            "  Downloading torch-1.12.1-cp39-none-macosx_10_9_x86_64.whl (133.8 MB)\n",
            "\u001b[2K     \u001b[90m━━━━━━━━━━━━━━━━━━━━━━━━━━━━━━━━━━━━━━\u001b[0m \u001b[32m133.8/133.8 MB\u001b[0m \u001b[31m22.9 MB/s\u001b[0m eta \u001b[36m0:00:00\u001b[0m00:01\u001b[0m00:01\u001b[0m\n",
            "\u001b[?25hCollecting chorder==0.1.2\n",
            "  Downloading chorder-0.1.2-py3-none-any.whl (7.9 kB)\n",
            "Collecting miditoolkit==0.1.14\n",
            "  Downloading miditoolkit-0.1.14.tar.gz (18 kB)\n",
            "  Preparing metadata (setup.py) ... \u001b[?25ldone\n",
            "\u001b[?25hCollecting scikit_learn==0.24.2\n",
            "  Downloading scikit_learn-0.24.2-cp39-cp39-macosx_10_13_x86_64.whl (7.3 MB)\n",
            "\u001b[2K     \u001b[90m━━━━━━━━━━━━━━━━━━━━━━━━━━━━━━━━━━━━━━━━\u001b[0m \u001b[32m7.3/7.3 MB\u001b[0m \u001b[31m33.6 MB/s\u001b[0m eta \u001b[36m0:00:00\u001b[0m00:01\u001b[0m00:01\u001b[0m\n",
            "\u001b[?25hCollecting torchaudio==0.9.0\n",
            "  Downloading torchaudio-0.9.0-cp39-cp39-macosx_10_9_x86_64.whl (1.5 MB)\n",
            "\u001b[2K     \u001b[90m━━━━━━━━━━━━━━━━━━━━━━━━━━━━━━━━━━━━━━━━\u001b[0m \u001b[32m1.5/1.5 MB\u001b[0m \u001b[31m28.8 MB/s\u001b[0m eta \u001b[36m0:00:00\u001b[0m00:01\u001b[0m\n",
            "\u001b[?25hCollecting transformers==4.8.2\n",
            "  Downloading transformers-4.8.2-py3-none-any.whl (2.5 MB)\n",
            "\u001b[2K     \u001b[90m━━━━━━━━━━━━━━━━━━━━━━━━━━━━━━━━━━━━━━━━\u001b[0m \u001b[32m2.5/2.5 MB\u001b[0m \u001b[31m30.3 MB/s\u001b[0m eta \u001b[36m0:00:00\u001b[0m00:01\u001b[0m00:01\u001b[0m\n",
            "\u001b[?25hCollecting SoundFile\n",
            "  Downloading SoundFile-0.10.3.post1-py2.py3.cp26.cp27.cp32.cp33.cp34.cp35.cp36.pp27.pp32.pp33-none-macosx_10_5_x86_64.macosx_10_6_intel.macosx_10_9_intel.macosx_10_9_x86_64.whl (613 kB)\n",
            "\u001b[2K     \u001b[90m━━━━━━━━━━━━━━━━━━━━━━━━━━━━━━━━━━━━━━\u001b[0m \u001b[32m613.4/613.4 kB\u001b[0m \u001b[31m21.5 MB/s\u001b[0m eta \u001b[36m0:00:00\u001b[0m\n",
            "\u001b[?25hCollecting tqdm\n",
            "  Using cached tqdm-4.64.0-py2.py3-none-any.whl (78 kB)\n",
            "Collecting p_tqdm\n",
            "  Downloading p_tqdm-1.3.3.tar.gz (4.3 kB)\n",
            "  Preparing metadata (setup.py) ... \u001b[?25ldone\n",
            "\u001b[?25hCollecting pypianoroll\n",
            "  Downloading pypianoroll-1.0.4-py3-none-any.whl (26 kB)\n",
            "Collecting scipy>=0.19.1\n",
            "  Downloading scipy-1.9.0-cp39-cp39-macosx_12_0_universal2.macosx_10_9_x86_64.whl (58.4 MB)\n",
            "\u001b[2K     \u001b[90m━━━━━━━━━━━━━━━━━━━━━━━━━━━━━━━━━━━━━━━━\u001b[0m \u001b[32m58.4/58.4 MB\u001b[0m \u001b[31m28.9 MB/s\u001b[0m eta \u001b[36m0:00:00\u001b[0m00:01\u001b[0m00:01\u001b[0m\n",
            "\u001b[?25hCollecting joblib>=0.11\n",
            "  Downloading joblib-1.1.0-py2.py3-none-any.whl (306 kB)\n",
            "\u001b[2K     \u001b[90m━━━━━━━━━━━━━━━━━━━━━━━━━━━━━━━━━━━━━━\u001b[0m \u001b[32m307.0/307.0 kB\u001b[0m \u001b[31m10.6 MB/s\u001b[0m eta \u001b[36m0:00:00\u001b[0m\n",
            "\u001b[?25hCollecting threadpoolctl>=2.0.0\n",
            "  Downloading threadpoolctl-3.1.0-py3-none-any.whl (14 kB)\n",
            "Collecting torch>=1.3.1\n",
            "  Downloading torch-1.9.0-cp39-none-macosx_10_9_x86_64.whl (127.9 MB)\n",
            "\u001b[2K     \u001b[90m━━━━━━━━━━━━━━━━━━━━━━━━━━━━━━━━━━━━━━\u001b[0m \u001b[32m127.9/127.9 MB\u001b[0m \u001b[31m21.7 MB/s\u001b[0m eta \u001b[36m0:00:00\u001b[0m00:01\u001b[0m00:01\u001b[0m\n",
            "\u001b[?25hCollecting typing-extensions\n",
            "  Downloading typing_extensions-4.3.0-py3-none-any.whl (25 kB)\n",
            "Collecting tokenizers<0.11,>=0.10.1\n",
            "  Downloading tokenizers-0.10.3-cp39-cp39-macosx_10_11_x86_64.whl (2.2 MB)\n",
            "\u001b[2K     \u001b[90m━━━━━━━━━━━━━━━━━━━━━━━━━━━━━━━━━━━━━━━━\u001b[0m \u001b[32m2.2/2.2 MB\u001b[0m \u001b[31m33.6 MB/s\u001b[0m eta \u001b[36m0:00:00\u001b[0ma \u001b[36m0:00:01\u001b[0m\n",
            "\u001b[?25hCollecting pyyaml\n",
            "  Downloading PyYAML-6.0-cp39-cp39-macosx_10_9_x86_64.whl (197 kB)\n",
            "\u001b[2K     \u001b[90m━━━━━━━━━━━━━━━━━━━━━━━━━━━━━━━━━━━━━━━\u001b[0m \u001b[32m197.6/197.6 kB\u001b[0m \u001b[31m5.8 MB/s\u001b[0m eta \u001b[36m0:00:00\u001b[0m\n",
            "\u001b[?25hCollecting filelock\n",
            "  Downloading filelock-3.8.0-py3-none-any.whl (10 kB)\n",
            "Collecting regex!=2019.12.17\n",
            "  Downloading regex-2022.7.25-cp39-cp39-macosx_10_9_x86_64.whl (289 kB)\n",
            "\u001b[2K     \u001b[90m━━━━━━━━━━━━━━━━━━━━━━━━━━━━━━━━━━━━━━\u001b[0m \u001b[32m289.7/289.7 kB\u001b[0m \u001b[31m10.2 MB/s\u001b[0m eta \u001b[36m0:00:00\u001b[0m\n",
            "\u001b[?25hCollecting sacremoses\n",
            "  Downloading sacremoses-0.0.53.tar.gz (880 kB)\n",
            "\u001b[2K     \u001b[90m━━━━━━━━━━━━━━━━━━━━━━━━━━━━━━━━━━━━━━\u001b[0m \u001b[32m880.6/880.6 kB\u001b[0m \u001b[31m17.4 MB/s\u001b[0m eta \u001b[36m0:00:00\u001b[0m00:01\u001b[0m\n",
            "\u001b[?25h  Preparing metadata (setup.py) ... \u001b[?25ldone\n",
            "\u001b[?25hRequirement already satisfied: packaging in /opt/anaconda3/envs/midibert/lib/python3.9/site-packages (from transformers==4.8.2->-r ../../requirements.txt (line 9)) (21.3)\n",
            "Collecting huggingface-hub==0.0.12\n",
            "  Downloading huggingface_hub-0.0.12-py3-none-any.whl (37 kB)\n",
            "Collecting requests\n",
            "  Using cached requests-2.28.1-py3-none-any.whl (62 kB)\n",
            "Collecting fonttools>=4.22.0\n",
            "  Downloading fonttools-4.35.0-py3-none-any.whl (947 kB)\n",
            "\u001b[2K     \u001b[90m━━━━━━━━━━━━━━━━━━━━━━━━━━━━━━━━━━━━━━\u001b[0m \u001b[32m947.1/947.1 kB\u001b[0m \u001b[31m20.9 MB/s\u001b[0m eta \u001b[36m0:00:00\u001b[0m00:01\u001b[0m\n",
            "\u001b[?25hCollecting kiwisolver>=1.0.1\n",
            "  Downloading kiwisolver-1.4.4-cp39-cp39-macosx_10_9_x86_64.whl (65 kB)\n",
            "\u001b[2K     \u001b[90m━━━━━━━━━━━━━━━━━━━━━━━━━━━━━━━━━━━━━━━━\u001b[0m \u001b[32m65.5/65.5 kB\u001b[0m \u001b[31m2.4 MB/s\u001b[0m eta \u001b[36m0:00:00\u001b[0m\n",
            "\u001b[?25hRequirement already satisfied: python-dateutil>=2.7 in /opt/anaconda3/envs/midibert/lib/python3.9/site-packages (from matplotlib>=3.3.3->-r ../../requirements.txt (line 2)) (2.8.2)\n",
            "Collecting pillow>=6.2.0\n",
            "  Downloading Pillow-9.2.0-cp39-cp39-macosx_10_10_x86_64.whl (3.1 MB)\n",
            "\u001b[2K     \u001b[90m━━━━━━━━━━━━━━━━━━━━━━━━━━━━━━━━━━━━━━━━\u001b[0m \u001b[32m3.1/3.1 MB\u001b[0m \u001b[31m32.0 MB/s\u001b[0m eta \u001b[36m0:00:00\u001b[0ma \u001b[36m0:00:01\u001b[0m\n",
            "\u001b[?25hCollecting cycler>=0.10\n",
            "  Downloading cycler-0.11.0-py3-none-any.whl (6.4 kB)\n",
            "Requirement already satisfied: pyparsing>=2.2.1 in /opt/anaconda3/envs/midibert/lib/python3.9/site-packages (from matplotlib>=3.3.3->-r ../../requirements.txt (line 2)) (3.0.9)\n",
            "Requirement already satisfied: cffi>=1.0 in /opt/anaconda3/envs/midibert/lib/python3.9/site-packages (from SoundFile->-r ../../requirements.txt (line 10)) (1.15.1)\n",
            "Collecting pathos\n",
            "  Downloading pathos-0.2.9-py3-none-any.whl (76 kB)\n",
            "\u001b[2K     \u001b[90m━━━━━━━━━━━━━━━━━━━━━━━━━━━━━━━━━━━━━━━━\u001b[0m \u001b[32m76.9/76.9 kB\u001b[0m \u001b[31m3.0 MB/s\u001b[0m eta \u001b[36m0:00:00\u001b[0m\n",
            "\u001b[?25hRequirement already satisfied: six in /opt/anaconda3/envs/midibert/lib/python3.9/site-packages (from p_tqdm->-r ../../requirements.txt (line 12)) (1.16.0)\n",
            "Collecting pretty-midi>=0.2.8\n",
            "  Downloading pretty_midi-0.2.9.tar.gz (5.6 MB)\n",
            "\u001b[2K     \u001b[90m━━━━━━━━━━━━━━━━━━━━━━━━━━━━━━━━━━━━━━━━\u001b[0m \u001b[32m5.6/5.6 MB\u001b[0m \u001b[31m36.1 MB/s\u001b[0m eta \u001b[36m0:00:00\u001b[0m00:01\u001b[0m00:01\u001b[0m\n",
            "\u001b[?25h  Preparing metadata (setup.py) ... \u001b[?25ldone\n",
            "\u001b[?25hRequirement already satisfied: pycparser in /opt/anaconda3/envs/midibert/lib/python3.9/site-packages (from cffi>=1.0->SoundFile->-r ../../requirements.txt (line 10)) (2.21)\n",
            "Collecting ppft>=1.7.6.5\n",
            "  Downloading ppft-1.7.6.5-py2.py3-none-any.whl (52 kB)\n",
            "\u001b[2K     \u001b[90m━━━━━━━━━━━━━━━━━━━━━━━━━━━━━━━━━━━━━━━━\u001b[0m \u001b[32m52.5/52.5 kB\u001b[0m \u001b[31m1.4 MB/s\u001b[0m eta \u001b[36m0:00:00\u001b[0m\n",
            "\u001b[?25hCollecting multiprocess>=0.70.13\n",
            "  Downloading multiprocess-0.70.13-py39-none-any.whl (132 kB)\n",
            "\u001b[2K     \u001b[90m━━━━━━━━━━━━━━━━━━━━━━━━━━━━━━━━━━━━━━━\u001b[0m \u001b[32m132.3/132.3 kB\u001b[0m \u001b[31m5.1 MB/s\u001b[0m eta \u001b[36m0:00:00\u001b[0m\n",
            "\u001b[?25hCollecting dill>=0.3.5.1\n",
            "  Downloading dill-0.3.5.1-py2.py3-none-any.whl (95 kB)\n",
            "\u001b[2K     \u001b[90m━━━━━━━━━━━━━━━━━━━━━━━━━━━━━━━━━━━━━━━━\u001b[0m \u001b[32m95.8/95.8 kB\u001b[0m \u001b[31m3.7 MB/s\u001b[0m eta \u001b[36m0:00:00\u001b[0m\n",
            "\u001b[?25hCollecting pox>=0.3.1\n",
            "  Downloading pox-0.3.1-py2.py3-none-any.whl (28 kB)\n",
            "Collecting urllib3<1.27,>=1.21.1\n",
            "  Using cached urllib3-1.26.11-py2.py3-none-any.whl (139 kB)\n",
            "Collecting idna<4,>=2.5\n",
            "  Using cached idna-3.3-py3-none-any.whl (61 kB)\n",
            "Requirement already satisfied: certifi>=2017.4.17 in /opt/anaconda3/envs/midibert/lib/python3.9/site-packages (from requests->transformers==4.8.2->-r ../../requirements.txt (line 9)) (2022.6.15)\n",
            "Collecting charset-normalizer<3,>=2\n",
            "  Using cached charset_normalizer-2.1.0-py3-none-any.whl (39 kB)\n",
            "Collecting click\n",
            "  Downloading click-8.1.3-py3-none-any.whl (96 kB)\n",
            "\u001b[2K     \u001b[90m━━━━━━━━━━━━━━━━━━━━━━━━━━━━━━━━━━━━━━━━\u001b[0m \u001b[32m96.6/96.6 kB\u001b[0m \u001b[31m3.7 MB/s\u001b[0m eta \u001b[36m0:00:00\u001b[0m\n",
            "\u001b[?25hBuilding wheels for collected packages: miditoolkit, p_tqdm, pretty-midi, sacremoses\n",
            "  Building wheel for miditoolkit (setup.py) ... \u001b[?25ldone\n",
            "\u001b[?25h  Created wheel for miditoolkit: filename=miditoolkit-0.1.14-py3-none-any.whl size=19538 sha256=a876654339038d550bbb81304cebb60eadf4b6ca1b44cc62ad005652d6732f7b\n",
            "  Stored in directory: /Users/icerxm/Library/Caches/pip/wheels/94/ba/fd/fb07ba89042fa897605abadd7d68d0634b7b79a1a7d5ef0d9e\n",
            "  Building wheel for p_tqdm (setup.py) ... \u001b[?25ldone\n",
            "\u001b[?25h  Created wheel for p_tqdm: filename=p_tqdm-1.3.3-py3-none-any.whl size=3986 sha256=39bd6dcb007b686abcfc234ad49cc849b5fe3b9fb3ceebe7f5fe88b3476eb0cf\n",
            "  Stored in directory: /Users/icerxm/Library/Caches/pip/wheels/cb/2b/fc/e7a280334c4a646f68179040f362e8ed8e451cc4b2ad152fb8\n",
            "  Building wheel for pretty-midi (setup.py) ... \u001b[?25ldone\n",
            "\u001b[?25h  Created wheel for pretty-midi: filename=pretty_midi-0.2.9-py3-none-any.whl size=5591955 sha256=d372987282942c9130676ebbe4066f4d3bcab8f06981cae47aa6fd3aa0705459\n",
            "  Stored in directory: /Users/icerxm/Library/Caches/pip/wheels/f0/3e/3d/126d7680aae66f3baed077a43a77b91f86e1b4a887fd703cc6\n",
            "  Building wheel for sacremoses (setup.py) ... \u001b[?25ldone\n",
            "\u001b[?25h  Created wheel for sacremoses: filename=sacremoses-0.0.53-py3-none-any.whl size=895260 sha256=c4f4e7d350a74a3e282e16f6147dd1d1eb4e843d0b4ea138bba212a40eef0f67\n",
            "  Stored in directory: /Users/icerxm/Library/Caches/pip/wheels/12/1c/3d/46cf06718d63a32ff798a89594b61e7f345ab6b36d909ce033\n",
            "Successfully built miditoolkit p_tqdm pretty-midi sacremoses\n",
            "Installing collected packages: tokenizers, mido, urllib3, typing-extensions, tqdm, threadpoolctl, regex, pyyaml, ppft, pox, pillow, numpy, kiwisolver, joblib, idna, fonttools, filelock, dill, cycler, click, chorder, charset-normalizer, torch, SoundFile, scipy, sacremoses, requests, pretty-midi, multiprocess, miditoolkit, matplotlib, torchaudio, scikit_learn, pypianoroll, pathos, huggingface-hub, transformers, p_tqdm\n",
            "Successfully installed SoundFile-0.10.3.post1 charset-normalizer-2.1.0 chorder-0.1.2 click-8.1.3 cycler-0.11.0 dill-0.3.5.1 filelock-3.8.0 fonttools-4.35.0 huggingface-hub-0.0.12 idna-3.3 joblib-1.1.0 kiwisolver-1.4.4 matplotlib-3.5.3 miditoolkit-0.1.14 mido-1.2.10 multiprocess-0.70.13 numpy-1.23.2 p_tqdm-1.3.3 pathos-0.2.9 pillow-9.2.0 pox-0.3.1 ppft-1.7.6.5 pretty-midi-0.2.9 pypianoroll-1.0.4 pyyaml-6.0 regex-2022.7.25 requests-2.28.1 sacremoses-0.0.53 scikit_learn-0.24.2 scipy-1.9.0 threadpoolctl-3.1.0 tokenizers-0.10.3 torch-1.9.0 torchaudio-0.9.0 tqdm-4.64.0 transformers-4.8.2 typing-extensions-4.3.0 urllib3-1.26.11\n"
          ]
        }
      ],
      "source": [
        "!pip install -r ../../requirements.txt"
      ]
    },
    {
      "cell_type": "code",
      "execution_count": 5,
      "metadata": {
        "id": "scJ50nqu0-Rj"
      },
      "outputs": [],
      "source": [
        "#dict/make_dict.py\n",
        "import pickle\n",
        "\n",
        "event2word = {\n",
        "    \"Bar\": {},\n",
        "    \"Position\": {},\n",
        "    \"Pitch\": {},\n",
        "    \"Duration\": {},\n",
        "    \"Program\": {},\n",
        "    \"Time Signature\": {},\n",
        "}\n",
        "word2event = {\n",
        "    \"Bar\": {},\n",
        "    \"Position\": {},\n",
        "    \"Pitch\": {},\n",
        "    \"Duration\": {},\n",
        "    \"Program\": {},\n",
        "    \"Time Signature\": {},\n",
        "}\n",
        "\n",
        "\n",
        "def special_tok(cnt, cls):\n",
        "    # \"\"\"event2word[cls][cls+' <SOS>'] = cnt\n",
        "    # word2event[cls][cnt] = cls+' <SOS>'\n",
        "    # cnt += 1\n",
        "\n",
        "    event2word[cls][cls + \" <PAD>\"] = cnt\n",
        "    word2event[cls][cnt] = cls + \" <PAD>\"\n",
        "    cnt += 1\n",
        "\n",
        "    event2word[cls][cls + \" <MASK>\"] = cnt\n",
        "    word2event[cls][cnt] = cls + \" <MASK>\"\n",
        "    cnt += 1\n",
        "\n",
        "    event2word[cls][cls + \" <EOS>\"] = cnt\n",
        "    word2event[cls][cnt] = cls + \" <EOS>\"\n",
        "    cnt += 1\n",
        "\n",
        "    event2word[cls][cls + \" <ABS>\"] = cnt\n",
        "    word2event[cls][cnt] = cls + \" <ABS>\"\n",
        "    cnt += 1\n",
        "\n",
        "    event2word[cls][cls + \" <BOS1>\"] = cnt  # string quartet 1: violin\n",
        "    word2event[cls][cnt] = cls + \" <BOS1>\"\n",
        "    cnt += 1\n",
        "\n",
        "    event2word[cls][cls + \" <BOS2>\"] = cnt  # string quartet 2: violin\n",
        "    word2event[cls][cnt] = cls + \" <BOS2>\"\n",
        "    cnt += 1\n",
        "\n",
        "    event2word[cls][cls + \" <BOS3>\"] = cnt  # string quartet 3: viola\n",
        "    word2event[cls][cnt] = cls + \" <BOS3>\"\n",
        "    cnt += 1\n",
        "\n",
        "    event2word[cls][cls + \" <BOS4>\"] = cnt  # string quartet 4: cello\n",
        "    word2event[cls][cnt] = cls + \" <BOS4>\"\n",
        "    cnt += 1\n",
        "\n",
        "\n",
        "# Bar\n",
        "cnt, cls = 0, \"Bar\"\n",
        "event2word[cls][\"Bar New\"] = cnt\n",
        "word2event[cls][cnt] = \"Bar New\"\n",
        "cnt += 1\n",
        "\n",
        "event2word[cls][\"Bar Continue\"] = cnt\n",
        "word2event[cls][cnt] = \"Bar Continue\"\n",
        "cnt += 1\n",
        "special_tok(cnt, cls)\n",
        "\n",
        "# =============================================\n",
        "# Position\n",
        "# 16 beats -> 24 beats -> 48 beats\n",
        "cnt, cls = 0, \"Position\"\n",
        "for i in range(1, 49):\n",
        "    event2word[cls][f\"Position {i}/48\"] = cnt\n",
        "    word2event[cls][cnt] = f\"Position {i}/48\"\n",
        "    cnt += 1\n",
        "\n",
        "special_tok(cnt, cls)\n",
        "# =============================================\n",
        "\n",
        "# Note On\n",
        "cnt, cls = 0, \"Pitch\"\n",
        "for i in range(22, 108):\n",
        "    event2word[cls][f\"Pitch {i}\"] = cnt\n",
        "    word2event[cls][cnt] = f\"Pitch {i}\"\n",
        "    cnt += 1\n",
        "\n",
        "special_tok(cnt, cls)\n",
        "\n",
        "# Note Duration\n",
        "cnt, cls = 0, \"Duration\"\n",
        "for i in range(12 * 4 * 4):  # MAX 4 bars\n",
        "    event2word[cls][f\"Duration {i}\"] = cnt\n",
        "    word2event[cls][cnt] = f\"Duration {i}\"\n",
        "    cnt += 1\n",
        "\n",
        "special_tok(cnt, cls)\n",
        "\n",
        "# =============================================\n",
        "# Program\n",
        "cnt, cls = 0, \"Program\"\n",
        "for i in range(97):  # ignore sound effects and ethnic instruments\n",
        "    # The value 96 reserved for a special input in the finetuning stage.\n",
        "    event2word[cls][f\"Program {i}\"] = cnt\n",
        "    word2event[cls][cnt] = f\"Program {i}\"\n",
        "    cnt += 1\n",
        "\n",
        "special_tok(cnt, cls)\n",
        "# =============================================\n",
        "\n",
        "\n",
        "# =============================================\n",
        "## Customized Tokens, summer 2022\n",
        "# Simple Time Signature\n",
        "supported_time_signature = [\"24\", \"34\", \"44\"]\n",
        "\n",
        "cnt, cls = 0, \"Time Signature\"\n",
        "for i in supported_time_signature:\n",
        "    event2word[cls][f\"Time Signature {i}\"] = cnt\n",
        "    word2event[cls][cnt] = f\"Time Signature {i}\"\n",
        "    cnt += 1\n",
        "\n",
        "special_tok(cnt, cls)\n",
        "# =============================================\n",
        "\n",
        "\n",
        "# print(event2word)\n",
        "# print(word2event)\n",
        "t = (event2word, word2event)\n",
        "\n",
        "with open(\"../../dict/CP_program.pkl\", \"wb\") as f:\n",
        "    pickle.dump(t, f)"
      ]
    },
    {
      "cell_type": "markdown",
      "metadata": {},
      "source": [
        "## Now you get Data Tokenization\n",
        "\n",
        "- Then, we do the Preprocessing\n",
        "  - we got string quartet preprocessing and multiprocessing\n",
        "  - for string quartet preprocessing\n",
        "    - please look at `CP/main.py`  \n",
        "  - for multiprocessing\n",
        "    - please look at `CP_string/main.py` "
      ]
    },
    {
      "cell_type": "markdown",
      "metadata": {},
      "source": [
        "###  Pretraining"
      ]
    },
    {
      "cell_type": "code",
      "execution_count": 23,
      "metadata": {},
      "outputs": [
        {
          "name": "stdout",
          "output_type": "stream",
          "text": [
            "Traceback (most recent call last):\n",
            "  File \"/Users/icerxm/Github/MIDI-BERT-2/tutorial/cantonese/./../../CP/main.py\", line 59, in <module>\n",
            "    assert len(files)\n",
            "AssertionError\n"
          ]
        }
      ],
      "source": [
        "### string quartet preprocessing\n",
        "!python ./main.py --task skyline --input_dir ../../skyline_data --output_dir ../../skyline_data --name skylineNPY --dict ../../dict/CP_program.pkl\n"
      ]
    },
    {
      "cell_type": "code",
      "execution_count": null,
      "metadata": {},
      "outputs": [],
      "source": []
    }
  ],
  "metadata": {
    "colab": {
      "name": "MIDI-BERT-2 playground",
      "provenance": []
    },
    "kernelspec": {
      "display_name": "Python 3.9.12 ('midibert')",
      "language": "python",
      "name": "python3"
    },
    "language_info": {
      "codemirror_mode": {
        "name": "ipython",
        "version": 3
      },
      "file_extension": ".py",
      "mimetype": "text/x-python",
      "name": "python",
      "nbconvert_exporter": "python",
      "pygments_lexer": "ipython3",
      "version": "3.9.12"
    },
    "vscode": {
      "interpreter": {
        "hash": "a6e87190172c34b267dbf72a6c8eead2c01ca21cea8ddcb06ebb4cfea34b17e1"
      }
    }
  },
  "nbformat": 4,
  "nbformat_minor": 0
}
