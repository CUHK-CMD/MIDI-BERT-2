{
 "cells": [
  {
   "cell_type": "code",
   "execution_count": 9,
   "metadata": {},
   "outputs": [],
   "source": [
    "import numpy as np\n",
    "from miditoolkit.midi import parser as mid_parser  \n",
    "from miditoolkit.midi import containers as ct\n",
    "PAD=[2,48,86,192,97,3]\n",
    "EOS=[4,50,88,194,99,5]\n",
    "ABS=[5,51,89,195,100,6]"
   ]
  },
  {
   "cell_type": "code",
   "execution_count": 10,
   "metadata": {},
   "outputs": [],
   "source": [
    "def token2mid(page, out_path):\n",
    "    # meta data\n",
    "    out = mid_parser.MidiFile()\n",
    "    out.ticks_per_beat = 480\n",
    "\n",
    "    # Assume piano for simplicity, but can get from token[4]\n",
    "    out.instruments = [ct.Instrument(\n",
    "        program=0, is_drum=False, name='reduction')]\n",
    "\n",
    "    # First Time Signature\n",
    "    ts = int(page[0][5]+2)\n",
    "    last_ts = ts\n",
    "    current_beat = -ts*480\n",
    "    out.time_signature_changes.append(ct.TimeSignature(ts, 4, 0))\n",
    "\n",
    "    for idx, n in enumerate(page):\n",
    "        # Stop if end or padding starts\n",
    "        if (n == EOS).all() or (n == PAD).all():\n",
    "            break\n",
    "\n",
    "        # Time Signature for THIS note\n",
    "        ts = int(page[idx][5]+2)\n",
    "        # Bar moves forward\n",
    "        if n[0] == 0 or (n[:-1] == ABS[:-1]).all():\n",
    "            current_beat += last_ts*480\n",
    "        # Update new Time Signature if any\n",
    "        if ts != last_ts:\n",
    "            last_ts = ts\n",
    "            out.time_signature_changes.append(ct.TimeSignature(ts, 4, current_beat))\n",
    "\n",
    "        # Add THIS note\n",
    "        if (n[:-1] != ABS[:-1]).all():\n",
    "            out.instruments[0].notes.append(ct.Note(\n",
    "                start=int(\n",
    "                    current_beat+n[1]*480/12),\n",
    "                end=int(\n",
    "                    current_beat +\n",
    "                    (n[1]+n[3]+1)*(480/12)),\n",
    "                pitch=n[2]+22,\n",
    "                velocity=90))\n",
    "    out.dump(out_path)\n"
   ]
  },
  {
   "cell_type": "code",
   "execution_count": 11,
   "metadata": {},
   "outputs": [],
   "source": [
    "# Token name\n",
    "npy_file = \"out/.npy\"\n",
    "mid_file = \"out/out.mid\"\n",
    "\n",
    "# Load token for the FIRST song\n",
    "token = np.load(npy_file)[0]\n",
    "token2mid(token, mid_file)"
   ]
  },
  {
   "cell_type": "markdown",
   "metadata": {},
   "source": [
    "We support up to sixteenth note. For a thirty-second note, it is 1.5 tick.\n",
    "\n",
    "If you want to support thirty-second note or higher (rare), we have to upgrade 48 -> 84 beats. More ticks may add burdens to training."
   ]
  }
 ],
 "metadata": {
  "kernelspec": {
   "display_name": "Python 3.7.3 64-bit",
   "language": "python",
   "name": "python3"
  },
  "language_info": {
   "codemirror_mode": {
    "name": "ipython",
    "version": 3
   },
   "file_extension": ".py",
   "mimetype": "text/x-python",
   "name": "python",
   "nbconvert_exporter": "python",
   "pygments_lexer": "ipython3",
   "version": "3.7.3"
  },
  "orig_nbformat": 4,
  "vscode": {
   "interpreter": {
    "hash": "31f2aee4e71d21fbe5cf8b01ff0e069b9275f58929596ceb00d14d90e3e16cd6"
   }
  }
 },
 "nbformat": 4,
 "nbformat_minor": 2
}
