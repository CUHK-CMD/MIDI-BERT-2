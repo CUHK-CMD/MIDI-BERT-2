{
 "cells": [
  {
   "cell_type": "code",
   "execution_count": null,
   "id": "3af560c3-e721-41c8-8ba5-a4ffe9b9bb44",
   "metadata": {},
   "outputs": [],
   "source": [
    "! python dict/make_dict.py"
   ]
  },
  {
   "cell_type": "code",
   "execution_count": null,
   "id": "0249cd59-cb7a-4a29-98f3-9247971fccb7",
   "metadata": {},
   "outputs": [],
   "source": [
    "! python CP/main.py --task custom --name GiantMIDI --input_dir data/raw/GiantMIDI --output_dir data/processed --dict dict/CP_program.pkl"
   ]
  },
  {
   "cell_type": "code",
   "execution_count": null,
   "id": "8eb9e1b0-3b29-4143-99c8-3f40d7b58fa8",
   "metadata": {},
   "outputs": [],
   "source": [
    "! python MidiBERT/main.py --datasets data/processed/GiantMIDI --dict dict/CP_program.pkl"
   ]
  }
 ],
 "metadata": {
  "kernelspec": {
   "display_name": "Python 3 (ipykernel)",
   "language": "python",
   "name": "python3"
  },
  "language_info": {
   "codemirror_mode": {
    "name": "ipython",
    "version": 3
   },
   "file_extension": ".py",
   "mimetype": "text/x-python",
   "name": "python",
   "nbconvert_exporter": "python",
   "pygments_lexer": "ipython3",
   "version": "3.9.0"
  }
 },
 "nbformat": 4,
 "nbformat_minor": 5
}
