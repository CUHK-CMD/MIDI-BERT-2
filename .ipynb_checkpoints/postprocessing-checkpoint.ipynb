{
 "cells": [
  {
   "cell_type": "code",
   "execution_count": 1,
   "id": "b251cf20-09aa-4a35-a929-49b97c3cc702",
   "metadata": {},
   "outputs": [],
   "source": [
    "from miditoolkit.midi import parser as mid_parser  \n",
    "from miditoolkit.midi import containers as ct\n",
    "from numpy import array, linspace\n",
    "from sklearn.neighbors import KernelDensity\n",
    "from matplotlib.pyplot import plot\n",
    "from scipy.signal import argrelextrema\n",
    "from scipy.ndimage import gaussian_filter1d\n",
    "import numpy as np\n",
    "from miditoolkit.pianoroll import parser as pr_parser\n",
    "from miditoolkit.pianoroll import utils\n",
    "import matplotlib.pyplot as plt"
   ]
  },
  {
   "cell_type": "code",
   "execution_count": 2,
   "id": "c8a3f2b1-bb93-4096-87af-a6ad74bfc830",
   "metadata": {
    "tags": []
   },
   "outputs": [],
   "source": [
    "# helper functions\n",
    "def read_midi(path):\n",
    "    DEFAULT_RESOLUTION=24\n",
    "    mido_obj = mid_parser.MidiFile(path)\n",
    "    tick_per_beat = mido_obj.ticks_per_beat\n",
    "\n",
    "    notes = [] \n",
    "    for instrument in mido_obj.instruments:\n",
    "        for note in instrument.notes:\n",
    "            #rescale tpb to 480\n",
    "            note.start = int(note.start/tick_per_beat*DEFAULT_RESOLUTION)\n",
    "            note.end=int(note.end/tick_per_beat*DEFAULT_RESOLUTION)\n",
    "            notes.append(note)\n",
    "\n",
    "    # sort by start time\n",
    "    notes.sort(key=lambda note:note.start)\n",
    "    return notes,24\n",
    "\n",
    "def write_midi(notes,path='out.mid',tick_per_beat=480):\n",
    "    out = mid_parser.MidiFile()\n",
    "    out.ticks_per_beat = tick_per_beat\n",
    "    out.instruments = [ct.Instrument(program=0,is_drum=False,name='right hand'),ct.Instrument(program=0,is_drum=False,name='left hand')]\n",
    "    \n",
    "    for note in notes:\n",
    "        assert(note.velocity)\n",
    "        current_beat=note.start//tick_per_beat\n",
    "        centers = centers_per_beat[current_beat]\n",
    "        closest_center,abs_distance_to_centers = cluster_assignment(note, centers_per_beat, tick_per_beat,single_note=True)\n",
    "        if(closest_center==0):\n",
    "            out.instruments[1].notes.append(ct.Note(start=note.start,end=note.end,pitch=note.pitch,velocity=note.velocity))\n",
    "        else:\n",
    "            out.instruments[0].notes.append(ct.Note(start=note.start,end=note.end,pitch=note.pitch,velocity=note.velocity))\n",
    "    out.dump(path)\n",
    "\n",
    "def find_note_idx_before(notes, tick_per_beat, beat):\n",
    "    # binary search\n",
    "    target = beat*tick_per_beat-1\n",
    "    left=0\n",
    "    right=len(notes)-1\n",
    "    middle=(left+right+1)//2\n",
    "    while left<right:\n",
    "        if notes[middle].start == target:\n",
    "            if notes[middle+1].start==target:\n",
    "                left=middle+1\n",
    "            else:\n",
    "                break\n",
    "        elif notes[middle].start<target:\n",
    "            left=middle\n",
    "        else:\n",
    "            right=middle-1\n",
    "        middle=(left+right+1)//2\n",
    "    return middle\n",
    "\n",
    "def get_centers_per_beat(notes, tick_per_beat,kernel_size=5):\n",
    "    # find centers\n",
    "    centers_per_beat=[]\n",
    "\n",
    "    ahead=1\n",
    "    after=1\n",
    "\n",
    "    start=ahead\n",
    "    end=(notes[-1].start//tick_per_beat - after) +1\n",
    "\n",
    "    trace_start_idx=0\n",
    "    pitch_range = linspace(0,127)\n",
    "    for beat in range(start,end):\n",
    "        notes_within_window = notes[trace_start_idx:find_note_idx_before(notes, tick_per_beat, beat+after+1)+1]\n",
    "        pitches_within_window = np.array([note.pitch for note in notes_within_window])\n",
    "\n",
    "        # use KDE for clustering(intervaling)(determine the center line for left/right hand respectively)\n",
    "        pitches_within_window = pitches_within_window.reshape(-1,1)\n",
    "        kernel_size=6\n",
    "        #interatve clustering\n",
    "        while True:\n",
    "            kde = KernelDensity(kernel='gaussian', bandwidth=kernel_size).fit(pitches_within_window)\n",
    "            kde_val = kde.score_samples(pitch_range.reshape(-1,1))\n",
    "            # visualization: distribution of notes inside the window\n",
    "            # plot(pitch_range, kde_val)\n",
    "            minima, maxima = argrelextrema(kde_val, np.less)[0], argrelextrema(kde_val, np.greater)[0]\n",
    "            \n",
    "            #termination check\n",
    "            if len(minima)>=1 and len(maxima)>=2:\n",
    "                # cluster selection\n",
    "                cutoff=min(pitch_range[minima])\n",
    "                cluster_1_candidate = pitch_range[ maxima[pitch_range[maxima]<cutoff] ]\n",
    "                cluster_2_candidate = pitch_range[ maxima[pitch_range[maxima]>cutoff] ]\n",
    "                assert(len(cluster_1_candidate)>=1)\n",
    "                assert(len(cluster_2_candidate)>=1)\n",
    "                clusters= sorted([round(max(cluster_1_candidate)), round(max(cluster_2_candidate))])\n",
    "                centers_per_beat.append(clusters)\n",
    "                break\n",
    "                \n",
    "            elif kernel_size<0.001:\n",
    "                #probably only one hand is needed\n",
    "                centers_per_beat.append([round(np.average(pitches_within_window)),round(np.average(pitches_within_window))])\n",
    "                break\n",
    "            \n",
    "            else:\n",
    "                kernel_size*=0.7\n",
    "                \n",
    "                continue\n",
    "                \n",
    "\n",
    "    # padding for start and end\n",
    "    centers_per_beat = ([centers_per_beat[0]]*ahead) + centers_per_beat + ([centers_per_beat[-1]]*after)\n",
    "    centers_per_beat = np.array(centers_per_beat)\n",
    "    \n",
    "    #smooth the line\n",
    "    centers_per_beat[:,0]=gaussian_filter1d(centers_per_beat[:,0], kernel_size)\n",
    "    centers_per_beat[:,1]=gaussian_filter1d(centers_per_beat[:,1], kernel_size)\n",
    "    return np.array(centers_per_beat)\n",
    "\n",
    "def cluster_assignment(notes, centers_per_beat, tick_per_beat, single_note=False):\n",
    "    def center_ordering(centers_per_beat):\n",
    "        # make sure the cluster with lower octave stay at index 0 (left hand)\n",
    "        for center in centers_per_beat:\n",
    "            if center[0]>center[1]:\n",
    "                return False\n",
    "        else:\n",
    "            return True\n",
    "    def assignment(note):\n",
    "        current_beat=note.start//tick_per_beat\n",
    "        centers = centers_per_beat[current_beat]\n",
    "        abs_distance_to_centers=abs(note.pitch - centers)\n",
    "        closest_center=np.argmin(abs_distance_to_centers)\n",
    "        return closest_center,abs_distance_to_centers\n",
    "    \n",
    "    \n",
    "    assert(center_ordering(centers_per_beat))\n",
    "    if single_note == True:\n",
    "        #return idx of cluster (0:left, 1:right)\n",
    "        return assignment(notes)\n",
    "    \n",
    "    else:\n",
    "        classified=[[],[]]\n",
    "        abs_distance_to_classified_centers=[[],[]]\n",
    "        for note in notes:\n",
    "            closest_center,abs_distance_to_centers = assignment(note)\n",
    "            classified[closest_center].append(note)\n",
    "            abs_distance_to_classified_centers[closest_center].append(abs_distance_to_centers)            \n",
    "        return classified,abs_distance_to_classified_centers"
   ]
  },
  {
   "cell_type": "code",
   "execution_count": 3,
   "id": "2d28346c-b8b7-4548-a3af-a7f84c9358d4",
   "metadata": {},
   "outputs": [],
   "source": [
    "# filter long duration notes\n",
    "def trim_long_notes(notes, tick_per_beat):\n",
    "    def trim(note):\n",
    "        if note.end-note.start>threshold*tick_per_beat:\n",
    "            note.end = note.start+threshold*tick_per_beat\n",
    "        return note\n",
    "    \n",
    "    threshold=4\n",
    "    return list(map(trim, notes))"
   ]
  },
  {
   "cell_type": "code",
   "execution_count": 4,
   "id": "7c59d201-85cf-4ab4-beca-2cdaf9c4580e",
   "metadata": {},
   "outputs": [],
   "source": [
    "def octave_transpose(transpose_notes, tick_per_beat,threshold=10,center_threshold=5):\n",
    "    # octave transpose\n",
    "    # for simplicity, use semitone instead of octave\n",
    "    max_semitone_distance=threshold\n",
    "\n",
    "    centers_per_beat = get_centers_per_beat(transpose_notes, tick_per_beat,center_threshold)\n",
    "    transpose_track=[]\n",
    "    skip_track=[]\n",
    "    count=0\n",
    "    skip_count=0\n",
    "\n",
    "    for note_idx,note in enumerate(transpose_notes):\n",
    "        # cluster assignment\n",
    "        current_beat=note.start//tick_per_beat\n",
    "        centers = centers_per_beat[current_beat]\n",
    "        closest_center,abs_distance_to_centers = cluster_assignment(note, centers_per_beat, tick_per_beat,single_note=True)\n",
    "\n",
    "        if abs_distance_to_centers[closest_center]>max_semitone_distance:\n",
    "            # transpose\n",
    "            if note.pitch>centers[closest_center]:\n",
    "                # transpose downward \n",
    "                # skip right hand first\n",
    "                # TODO: later figure out how to avoid transposing melody's note\n",
    "                if closest_center==0: \n",
    "                    transpose_notes[note_idx].pitch-=12*( ((abs_distance_to_centers[closest_center]-max_semitone_distance)//12) +1)\n",
    "                    count+=1\n",
    "                else:\n",
    "                    skip_count+=1\n",
    "            else:\n",
    "                # transpose upward\n",
    "                transpose_notes[note_idx].pitch+=12*( ((abs_distance_to_centers[closest_center]-max_semitone_distance)//12) +1)\n",
    "                count+=1\n",
    "    \n",
    "    # visualization : center line of left/right hand\n",
    "    print('Octave Transpose:','#notes',len(transpose_notes),'transposed',count,'notes',', skipped',skip_count)\n",
    "    #plot(centers_per_beat)\n",
    "    \n",
    "    return transpose_notes,centers_per_beat"
   ]
  },
  {
   "cell_type": "code",
   "execution_count": 5,
   "id": "266ab5c6-c5d1-4769-8e23-7f969890a096",
   "metadata": {
    "tags": []
   },
   "outputs": [],
   "source": [
    "def doubling_simplification(notes,centers_per_beat, tick_per_beat):\n",
    "    notes = np.array(notes)\n",
    "    count=0\n",
    "    track_tick=0\n",
    "    track_idx=0\n",
    "    collections=[]\n",
    "    delete=[]\n",
    "    threshold=3\n",
    "    while track_idx<len(notes):\n",
    "        if notes[track_idx].start==track_tick:\n",
    "            # gathering notes start at the same tick\n",
    "            collections.append(notes[track_idx])\n",
    "            track_idx+=1\n",
    "        else:\n",
    "            # action\n",
    "            classified,abs_distance_to_classified_centers = cluster_assignment(collections,centers_per_beat, tick_per_beat)\n",
    "            keep=[[None for _ in range(12)] for __ in range(2)]\n",
    "            # doubling simplification on different hand separately\n",
    "            for group in range(2):\n",
    "                note_count=0\n",
    "                delete_candidates=[]\n",
    "                for note in classified[group]:\n",
    "                    if keep[group][note.pitch%12] is None:\n",
    "                        keep[group][note.pitch%12] = note\n",
    "                    elif keep[group][note.pitch%12].pitch>=note.pitch:\n",
    "                        delete_candidates.append(note)\n",
    "                    else:\n",
    "                        delete_candidates.append(keep[group][note.pitch%12])\n",
    "                        keep[group][note.pitch%12]=note\n",
    "                    note_count+=1\n",
    "                if note_count>threshold:\n",
    "                    #remove doubling\n",
    "                    delete_count = note_count-threshold\n",
    "                    delete_candidates.sort(key=lambda x:x.pitch)\n",
    "                    delete_candidates = delete_candidates[0:delete_count]\n",
    "                    for note in delete_candidates:\n",
    "                        delete.append(note)\n",
    "            # reset\n",
    "            collections=[notes[track_idx]]\n",
    "            track_tick=notes[track_idx].start\n",
    "            track_idx+=1\n",
    "            \n",
    "    for note in delete:\n",
    "        notes = np.delete(notes, np.where(notes == note)[0])\n",
    "        count+=1\n",
    "            \n",
    "    print('Doubling Simplification:','removed doubling',count)\n",
    "    return notes\n"
   ]
  },
  {
   "cell_type": "code",
   "execution_count": 11,
   "id": "5d301d7c-da73-48fc-beaf-aa259200f5ef",
   "metadata": {},
   "outputs": [],
   "source": [
    "def merge_discrete_note(notes):\n",
    "    notes.sort(key=lambda note:note.start)   \n",
    "    org_len=len(notes)\n",
    "    #profile\n",
    "    all_pitch={}\n",
    "    for note in notes:\n",
    "        pitch=note.pitch\n",
    "        if pitch in all_pitch:\n",
    "            all_pitch[pitch].append(note)\n",
    "        else:\n",
    "            all_pitch[pitch]=[note]\n",
    "    #merge\n",
    "    for k,v in all_pitch.items():\n",
    "        v.sort(key=lambda note:note.start)   \n",
    "        trace_idx=0\n",
    "        while trace_idx<len(v)-1:\n",
    "            if 0<=v[trace_idx+1].start-v[trace_idx].end<=merge_threshold:\n",
    "                v[trace_idx].end=v[trace_idx+1].end\n",
    "                v.pop(trace_idx+1)\n",
    "            else:\n",
    "                trace_idx+=1\n",
    "    #output\n",
    "    notes=[]\n",
    "    for k,v in all_pitch.items():\n",
    "        for note in v:\n",
    "            notes.append(note)\n",
    "    notes.sort(key=lambda note:note.start)      \n",
    "    filtered_len=len(notes)\n",
    "    print('Merge discrete:','merged ',org_len-filtered_len,' discrete notes')\n",
    "    return notes"
   ]
  },
  {
   "cell_type": "code",
   "execution_count": 7,
   "id": "fe1d4cd7-250f-4958-a6f8-a661d19f6421",
   "metadata": {},
   "outputs": [],
   "source": [
    "def drop_discrete_note(notes):\n",
    "    org_len=len(notes)\n",
    "    \n",
    "    new_notes=[]\n",
    "    for note in notes:\n",
    "        if note.end-note.start > discrete_note_threshold:\n",
    "            new_notes.append(note)\n",
    "    notes=new_notes        \n",
    "    print('Drop discrete:','dropped ',org_len-len(notes),' discrete notes')\n",
    "    return notes"
   ]
  },
  {
   "cell_type": "code",
   "execution_count": 8,
   "id": "15ae5a76-4acf-4157-ad76-a685d6ddb061",
   "metadata": {},
   "outputs": [],
   "source": [
    "def visualize(notes,centers_per_beat,tick_per_beat):\n",
    "    assert(tick_per_beat==24)\n",
    "    \n",
    "    notes=sorted(notes,key=lambda note:note.start)\n",
    "    pianoroll = pr_parser.notes2pianoroll(\n",
    "                                notes, \n",
    "                                ticks_per_beat=tick_per_beat,\n",
    "                                binary_thres=1\n",
    "                                )\n",
    "    pianoroll = pianoroll*1\n",
    "    plt.figure(figsize = (20,20))\n",
    "    plt.imshow(pianoroll.T, origin='lower')\n",
    "    plt.plot(np.repeat(centers_per_beat[:, [1, 0]],tick_per_beat , axis=0))\n",
    "    plt.legend(['Right hand','Left hand'])\n",
    "    plt.show()"
   ]
  },
  {
   "cell_type": "code",
   "execution_count": 22,
   "id": "49d9215c-525c-4741-b5f6-58aee81f4448",
   "metadata": {},
   "outputs": [
    {
     "name": "stdout",
     "output_type": "stream",
     "text": [
      "before post-processing 6307 notes\n",
      "Octave Transpose: #notes 6307 transposed 1419 notes , skipped 108\n",
      "Merge discrete: merged  1417  discrete notes\n",
      "Drop discrete: dropped  764  discrete notes\n",
      "Doubling Simplification: removed doubling 1276\n",
      "after post-processing, total notes: 2850, removed 3457 notes in total\n"
     ]
    },
    {
     "data": {
      "image/png": "[encoded data removed]",
      "text/plain": [
       "<Figure size 1440x1440 with 1 Axes>"
      ]
     },
     "metadata": {
      "needs_background": "light"
     },
     "output_type": "display_data"
    },
    {
     "name": "stdout",
     "output_type": "stream",
     "text": [
      "before post-processing 2850 notes\n",
      "Octave Transpose: #notes 2850 transposed 126 notes , skipped 62\n",
      "Merge discrete: merged  970  discrete notes\n",
      "Drop discrete: dropped  67  discrete notes\n",
      "Doubling Simplification: removed doubling 0\n",
      "after post-processing, total notes: 1813, removed 1037 notes in total\n"
     ]
    },
    {
     "data": {
      "image/png": "[encoded data removed]",
      "text/plain": [
       "<Figure size 1440x1440 with 1 Axes>"
      ]
     },
     "metadata": {
      "needs_background": "light"
     },
     "output_type": "display_data"
    },
    {
     "name": "stdout",
     "output_type": "stream",
     "text": [
      "before post-processing 1813 notes\n",
      "Octave Transpose: #notes 1813 transposed 0 notes , skipped 18\n",
      "Merge discrete: merged  163  discrete notes\n",
      "Drop discrete: dropped  0  discrete notes\n",
      "Doubling Simplification: removed doubling 0\n",
      "after post-processing, total notes: 1650, removed 163 notes in total\n"
     ]
    },
    {
     "data": {
      "image/png": "[encoded data removed]",
      "text/plain": [
       "<Figure size 1440x1440 with 1 Axes>"
      ]
     },
     "metadata": {
      "needs_background": "light"
     },
     "output_type": "display_data"
    },
    {
     "name": "stdout",
     "output_type": "stream",
     "text": [
      "before post-processing 1650 notes\n",
      "Octave Transpose: #notes 1650 transposed 0 notes , skipped 18\n",
      "Merge discrete: merged  43  discrete notes\n",
      "Drop discrete: dropped  0  discrete notes\n",
      "Doubling Simplification: removed doubling 0\n",
      "after post-processing, total notes: 1607, removed 43 notes in total\n"
     ]
    },
    {
     "data": {
      "image/png": "[encoded data removed]",
      "text/plain": [
       "<Figure size 1440x1440 with 1 Axes>"
      ]
     },
     "metadata": {
      "needs_background": "light"
     },
     "output_type": "display_data"
    },
    {
     "name": "stdout",
     "output_type": "stream",
     "text": [
      "before post-processing 1607 notes\n",
      "Octave Transpose: #notes 1607 transposed 0 notes , skipped 18\n",
      "Merge discrete: merged  1  discrete notes\n",
      "Drop discrete: dropped  0  discrete notes\n",
      "Doubling Simplification: removed doubling 0\n",
      "after post-processing, total notes: 1606, removed 1 notes in total\n"
     ]
    },
    {
     "data": {
      "image/png": "[encoded data removed]",
      "text/plain": [
       "<Figure size 1440x1440 with 1 Axes>"
      ]
     },
     "metadata": {
      "needs_background": "light"
     },
     "output_type": "display_data"
    }
   ],
   "source": [
    "# main\n",
    "merge_threshold=-1# #minimum separation between notes in same pitch\n",
    "discrete_note_threshold=3 #minimum length of a note\n",
    "\n",
    "notes,tick_per_beat = read_midi(\"reduction.mid\")\n",
    "org_notes=len(notes)\n",
    "print(f'before post-processing {org_notes} notes')\n",
    "notes = trim_long_notes(notes, tick_per_beat)\n",
    "notes,centers_per_beat = octave_transpose(notes, tick_per_beat)\n",
    "notes = merge_discrete_note(notes)\n",
    "notes = drop_discrete_note(notes)\n",
    "notes = doubling_simplification(notes,centers_per_beat, tick_per_beat)\n",
    "cur_notes=len(notes)\n",
    "print(f'after post-processing, total notes: {cur_notes}, removed {org_notes-cur_notes} notes in total')\n",
    "visualize(notes[:100],centers_per_beat[:30],tick_per_beat)\n",
    "write_midi(notes, \"post_processed.mid\", tick_per_beat)\n",
    "\n",
    "while True:\n",
    "    notes,tick_per_beat = read_midi(\"post_processed.mid\")\n",
    "    org_notes=len(notes)\n",
    "    print(f'before post-processing {org_notes} notes')\n",
    "    notes = trim_long_notes(notes, tick_per_beat)\n",
    "    notes,centers_per_beat = octave_transpose(notes, tick_per_beat,8,3)\n",
    "    notes = merge_discrete_note(notes)\n",
    "    notes = drop_discrete_note(notes)\n",
    "    notes = doubling_simplification(notes,centers_per_beat, tick_per_beat)\n",
    "    cur_notes=len(notes)\n",
    "    print(f'after post-processing, total notes: {cur_notes}, removed {org_notes-cur_notes} notes in total')\n",
    "    visualize(notes[:100],centers_per_beat[:30],tick_per_beat)\n",
    "    write_midi(notes, \"post_processed.mid\", tick_per_beat)\n",
    "    \n",
    "    #termination\n",
    "    if org_notes-cur_notes<10:        \n",
    "        break"
   ]
  },
  {
   "cell_type": "code",
   "execution_count": null,
   "id": "adc9d2e0-3380-4af7-b541-36e5e0006f5d",
   "metadata": {},
   "outputs": [],
   "source": []
  }
 ],
 "metadata": {
  "kernelspec": {
   "display_name": "Python 3",
   "language": "python",
   "name": "python3"
  },
  "language_info": {
   "codemirror_mode": {
    "name": "ipython",
    "version": 3
   },
   "file_extension": ".py",
   "mimetype": "text/x-python",
   "name": "python",
   "nbconvert_exporter": "python",
   "pygments_lexer": "ipython3",
   "version": "3.6.13"
  }
 },
 "nbformat": 4,
 "nbformat_minor": 5
}
