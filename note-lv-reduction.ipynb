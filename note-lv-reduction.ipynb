{
 "cells": [
  {
   "cell_type": "code",
   "execution_count": 1,
   "id": "1b68ae3a-cabf-4cee-b69e-49ff750b113f",
   "metadata": {},
   "outputs": [],
   "source": [
    "import numpy as np\n",
    "import numpy\n",
    "from miditoolkit.midi import parser as mid_parser  \n",
    "from miditoolkit.midi import containers as ct\n",
    "from numpy import array, linspace\n",
    "from sklearn.neighbors import KernelDensity\n",
    "from matplotlib.pyplot import plot\n",
    "from scipy.signal import argrelextrema\n",
    "from scipy.ndimage import gaussian_filter1d\n",
    "import random"
   ]
  },
  {
   "cell_type": "code",
   "execution_count": 2,
   "id": "43dd2494-712a-4164-bd29-c4b8c4c88aee",
   "metadata": {
    "tags": []
   },
   "outputs": [
    {
     "data": {
      "text/plain": [
       "\"Road map\\n----[requirements]\\n0. install requirement\\n    -- pip install -r requirements.txt\\n\\n----[prepare training data]\\n1. turn training data into (-1,512,4)  \\n    : 512 = input_size, \\n    : 4= size of CP token (includingBar (0=new,1=continue,2=pad),Position,Pitch,Duration)\\n    ** DO NOT concatenate all songs tgt, pad every song and make it divisible by 512\\n    ** pad it with (2,16,86,64)\\n    e.g. [ [song1-0:511],[song1-512:520+pad],[song2-0:511],[song2-512-530+pad].... ]\\n    \\n2. Prepare answer dataset \\n    : (0 = padding, 1 = keep, 2 = discard)\\n* save in .npy format\\n* split in 3 different groups\\n    dataroot= ~/data/CP/\\n    -custom_reduction_train.npy , custom_reduction_train_ans.npy\\n    -custom_reduction_valid.npy , custom_reduction_valid_ans.npy\\n    -custom_reduction_test.npy  , custom_reduction_test_ans.npy\\n\\n    \\n----[start fine tuning]\\n1. cd to ./MidiBERT/CP\\n2. python3 finetune.py --task=reduction  --epochs 1 --ckpt xxxxx (default='result/finetune/pretrain_model.ckpt')\\n* gpu with --cuda_devices 0 (+1)\\n\\n----[eval]\\n1. cd to ./MidiBERT/CP\\n2. python3 eval.py --task=reduction\\n\\n\""
      ]
     },
     "execution_count": 2,
     "metadata": {},
     "output_type": "execute_result"
    }
   ],
   "source": [
    "'''Road map\n",
    "----[requirements]\n",
    "0. install all requirements\n",
    "    -- pip install -r requirements.txt\n",
    "\n",
    "----[prepare training data]\n",
    "1. turn training data into (-1,512,4)  \n",
    "    : 512 = input_size, \n",
    "    : 4= size of the CP token (Bar (0=new,1=continue,2=pad),Position,Pitch,Duration)\n",
    "    ** DO NOT concatenate all songs tgt, pad every song and make it divisible by 512\n",
    "    ** pad it with (2,16,86,64)\n",
    "    e.g. [ [song1-0:511],[song1-512:520+pad],[song2-0:511],[song2-512-530+pad]] ==> shape(4,512,4)\n",
    "    \n",
    "2. Prepare answer dataset \n",
    "    : (0 = padding, 1 = keep, 2 = discard)\n",
    "* save it in .npy format\n",
    "* split into 3 different groups\n",
    "    put inside ~/data/CP/\n",
    "    -custom_reduction_train.npy , custom_reduction_train_ans.npy\n",
    "    -custom_reduction_valid.npy , custom_reduction_valid_ans.npy\n",
    "    -custom_reduction_test.npy  , custom_reduction_test_ans.npy\n",
    "    \n",
    "** using  .py\n",
    "    - cd to ./prepare_data/CP\n",
    "    - python main.py --task reduction --input_dir \"../../dataset(orchestra only)\"\n",
    "    >files will be saved at ~/data/CP/\n",
    "    >please move all the files to the correct directory\n",
    "\n",
    "\n",
    "    \n",
    "----[start fine tuning]\n",
    "1. cd to ./MidiBERT/CP\n",
    "2. python3 finetune.py --task=reduction  --epochs 1 --ckpt xxxxx (default='result/finetune/pretrain_model.ckpt')\n",
    "* gpu with --cuda_devices 0 (+1)\n",
    "* if gpu is available and --cpu flag is not set, by default it will be trained on GPU\n",
    "\n",
    "----[eval](not finished yet)\n",
    "1. cd to ./MidiBERT/CP\n",
    "2. python3 eval.py --task=reduction\n",
    "\n",
    "'''"
   ]
  },
  {
   "cell_type": "code",
   "execution_count": 3,
   "id": "ea1673ff-6a38-4dca-af05-1d4adf991963",
   "metadata": {},
   "outputs": [],
   "source": [
    "#DEMO"
   ]
  },
  {
   "cell_type": "code",
   "execution_count": 4,
   "id": "1c1c19cd-be01-47b5-bf3b-1eb7a5d49f18",
   "metadata": {},
   "outputs": [
    {
     "data": {
      "text/plain": [
       "(4, 512, 4)"
      ]
     },
     "execution_count": 4,
     "metadata": {},
     "output_type": "execute_result"
    }
   ],
   "source": [
    "#training data after tokenization\n",
    "a=np.load('./data/CP/custom.npy') # after tokenization\n",
    "a.shape"
   ]
  },
  {
   "cell_type": "code",
   "execution_count": 5,
   "id": "0e05cb6e-5d2f-4f9b-9a9e-07e29f475c5d",
   "metadata": {},
   "outputs": [],
   "source": [
    "#corrsponding ans\n",
    "fake_ans= np.array([[random.randint(1,2) for _ in range(512)] for __ in range(4)])  #random generate\n",
    "fake_ans[3][206:]=0 # random padding\n",
    "fake_ans=fake_ans.astype(np.int64)"
   ]
  },
  {
   "cell_type": "code",
   "execution_count": 6,
   "id": "20ddf7f8-5613-40d8-901f-493be9f9a078",
   "metadata": {},
   "outputs": [],
   "source": [
    "#test,train,valid split\n",
    "#assume a[0],a[1],a[2:] are three different songs\n",
    "testX,testY = a[0].reshape(-1,512,4),fake_ans[0].reshape(-1,512)\n",
    "validX,validY = a[1].reshape(-1,512,4),fake_ans[1].reshape(-1,512)\n",
    "trainX,trainY = a[2:].reshape(-1,512,4),fake_ans[2:].reshape(-1,512)"
   ]
  },
  {
   "cell_type": "code",
   "execution_count": 7,
   "id": "73287f6c-b6ed-408e-95bb-c4a3ebaa3157",
   "metadata": {},
   "outputs": [],
   "source": [
    "#save training data\n",
    "np.save('./data/CP/custom_reduction_train.npy',trainX)\n",
    "np.save('./data/CP/custom_reduction_train_ans.npy',trainY)\n",
    "np.save('./data/CP/custom_reduction_valid.npy',validX)\n",
    "np.save('./data/CP/custom_reduction_valid_ans.npy',validY)\n",
    "np.save('./data/CP/custom_reduction_test.npy',testX)\n",
    "np.save('./data/CP/custom_reduction_test_ans.npy',testY)"
   ]
  },
  {
   "cell_type": "code",
   "execution_count": 8,
   "id": "e08b5b6b-7273-4baa-88d4-81a01fbda0c7",
   "metadata": {},
   "outputs": [
    {
     "name": "stdout",
     "output_type": "stream",
     "text": [
      "C:\\Users\\tokah\\Documents\\MIDI-BERT\\MidiBERT\\CP/\n",
      "Loading Dictionary\n",
      "\n",
      "Loading Dataset\n",
      "X_train: (2, 512, 4), X_valid: (1, 512, 4), X_test: (1, 512, 4)\n",
      "y_train: (2, 512), y_valid: (1, 512), y_test: (1, 512)\n",
      "   len of train_loader 1\n",
      "   len of valid_loader 1\n",
      "   len of valid_loader 1\n",
      "\n",
      "Building BERT model\n",
      "   Loading pre-trained model from pretrain_model.ckpt"
     ]
    },
    {
     "name": "stderr",
     "output_type": "stream",
     "text": [
      "D:\\anacnda\\envs\\RL\\lib\\site-packages\\torch\\utils\\data\\dataloader.py:481: UserWarning: This DataLoader will create 5 worker processes in total. Our suggested max number of worker in current system is 4 (`cpuset` is not taken into account), which is smaller than what this DataLoader is going to create. Please be aware that excessive worker creation might get DataLoader running slow or even freeze, lower the worker number to avoid potential slowness/freeze if necessary.\n",
      "  cpuset_checked))\n",
      "\n",
      "  0%|          | 0/1 [00:00<?, ?it/s]\n",
      "100%|██████████| 1/1 [00:42<00:00, 42.08s/it]\n",
      "100%|██████████| 1/1 [00:42<00:00, 42.76s/it]\n",
      "\n",
      "  0%|          | 0/1 [00:00<?, ?it/s]\n",
      "100%|██████████| 1/1 [00:25<00:00, 25.37s/it]\n",
      "100%|██████████| 1/1 [00:26<00:00, 26.03s/it]\n",
      "\n",
      "  0%|          | 0/1 [00:00<?, ?it/s]\n",
      "100%|██████████| 1/1 [00:21<00:00, 21.90s/it]\n",
      "100%|██████████| 1/1 [00:22<00:00, 22.56s/it]\n"
     ]
    },
    {
     "name": "stdout",
     "output_type": "stream",
     "text": [
      "\n",
      "\n",
      "Creating Finetune Trainer using index layer -1\n",
      "   device: cpu\n",
      "init a fine-tune model, sequence-level task? False\n",
      "\n",
      "Training Start\n",
      "   save model at C:\\Users\\tokah\\Documents\\MIDI-BERT\\MidiBERT\\CP/result/finetune/reduction_\\model.ckpt\n",
      "C:\\Users\\tokah\\Documents\\MIDI-BERT\\MidiBERT\\CP/\n",
      "C:\\Users\\tokah\\Documents\\MIDI-BERT\\MidiBERT\\CP/\n",
      "C:\\Users\\tokah\\Documents\\MIDI-BERT\\MidiBERT\\CP/\n",
      "C:\\Users\\tokah\\Documents\\MIDI-BERT\\MidiBERT\\CP/\n",
      "C:\\Users\\tokah\\Documents\\MIDI-BERT\\MidiBERT\\CP/\n",
      "C:\\Users\\tokah\\Documents\\MIDI-BERT\\MidiBERT\\CP/\n",
      "C:\\Users\\tokah\\Documents\\MIDI-BERT\\MidiBERT\\CP/\n",
      "C:\\Users\\tokah\\Documents\\MIDI-BERT\\MidiBERT\\CP/\n",
      "C:\\Users\\tokah\\Documents\\MIDI-BERT\\MidiBERT\\CP/\n",
      "C:\\Users\\tokah\\Documents\\MIDI-BERT\\MidiBERT\\CP/\n",
      "C:\\Users\\tokah\\Documents\\MIDI-BERT\\MidiBERT\\CP/\n",
      "C:\\Users\\tokah\\Documents\\MIDI-BERT\\MidiBERT\\CP/\n",
      "C:\\Users\\tokah\\Documents\\MIDI-BERT\\MidiBERT\\CP/\n",
      "C:\\Users\\tokah\\Documents\\MIDI-BERT\\MidiBERT\\CP/\n",
      "C:\\Users\\tokah\\Documents\\MIDI-BERT\\MidiBERT\\CP/\n",
      "1\n",
      "513.0\n",
      "epoch: 1/1 | Train Loss: 1.0158 | Train acc: 0.4937 | Valid Loss: 0.8541 | Valid acc: 0.4971 | Test loss: 0.857 | Test acc: 0.5049\n"
     ]
    }
   ],
   "source": [
    "# start fine tuning\n",
    "! python ./MidiBERT/CP/finetune.py --task=reduction --epochs 1"
   ]
  },
  {
   "cell_type": "code",
   "execution_count": null,
   "id": "bea09a7d-7759-4466-beb9-d96d20bbff30",
   "metadata": {},
   "outputs": [],
   "source": [
    "# eval\n",
    "'''\n",
    "procedure:\n",
    "1. use prepare_data to tokenlize *a* song to .npy format\n",
    "    -- it should be saved under ~/data/CP\n",
    "2. cd to ~/MidiBERT/CP\n",
    "3. python eval.py --task reduction --case [file name of the .npy file]\n",
    "3. two mid are generated \n",
    "\n",
    "\n",
    "--[sample]\n",
    "1. put orchestra.mid into testcase folder *(the file should only contain 1 file)*\n",
    "2. cd ./prepare_data/CP\n",
    "3. python .\\main.py --task custom --name testcase1 --input_dir ../../testcase\n",
    "4. cd ../../MidiBERT/CP\n",
    "5. python eval.py --task reduction --case testcase1\n",
    "6. u can find the two files in ~/MidiBERT/CP now\n",
    "'''"
   ]
  },
  {
   "cell_type": "code",
   "execution_count": 121,
   "id": "caefa47a-e0c5-4350-9c22-74c09432c134",
   "metadata": {},
   "outputs": [],
   "source": [
    "def read_midi(path):\n",
    "    mido_obj = mid_parser.MidiFile(path)\n",
    "    tick_per_beat = mido_obj.ticks_per_beat\n",
    "\n",
    "    notes = [] \n",
    "    for instrument in mido_obj.instruments:\n",
    "        for note in instrument.notes:\n",
    "            notes.append(note)\n",
    "\n",
    "    # sort by start time\n",
    "    notes.sort(key=lambda note:note.start)\n",
    "    return notes,tick_per_beat\n",
    "\n",
    "def write_midi(notes,tick_per_beat=480,path='out.mid'):\n",
    "    out = mid_parser.MidiFile()\n",
    "    out.ticks_per_beat = tick_per_beat\n",
    "    out.instruments = [ct.Instrument(program=0,is_drum=False,name='post-processed piano')]\n",
    "    for note in notes:\n",
    "        assert(note.velocity)\n",
    "        out.instruments[0].notes.append(ct.Note(start=note.start,end=note.end,pitch=note.pitch,velocity=note.velocity))\n",
    "    out.dump(path)"
   ]
  },
  {
   "cell_type": "raw",
   "id": "24fc494e-4d84-49c4-b52f-9f415d17ad2d",
   "metadata": {},
   "source": [
    "with open(r\"./dict/CP.pkl\", \"rb\") as input_file:\n",
    "    e = cPickle.load(input_file)"
   ]
  },
  {
   "cell_type": "code",
   "execution_count": 191,
   "id": "31603d08-1be1-4430-aa8c-34cd3b6d69bf",
   "metadata": {},
   "outputs": [],
   "source": [
    "a,b=read_midi('./testcase/Symphonie1_Opus21_Mvt1 (1).mid')\n",
    "write_midi(a,b,'merged_orchestra.mid')"
   ]
  },
  {
   "cell_type": "code",
   "execution_count": 193,
   "id": "543bf431-dfaf-4573-924e-dc59ce6b1797",
   "metadata": {},
   "outputs": [],
   "source": [
    "c=np.load('./data/CP/testcase1.npy')"
   ]
  },
  {
   "cell_type": "code",
   "execution_count": 194,
   "id": "b7f79bb2-1280-4826-bbef-63fc1a127ac3",
   "metadata": {},
   "outputs": [
    {
     "data": {
      "text/plain": [
       "array([[ 0,  0, 60, 14],\n",
       "       [ 1,  0, 66, 14],\n",
       "       [ 1,  0, 48, 14],\n",
       "       [ 1,  0, 54, 14],\n",
       "       [ 1,  0, 38, 19],\n",
       "       [ 1,  0, 48,  7],\n",
       "       [ 1,  0, 45, 14],\n",
       "       [ 1,  0, 48, 14],\n",
       "       [ 1,  0, 26, 19],\n",
       "       [ 1,  0, 54,  7]])"
      ]
     },
     "execution_count": 194,
     "metadata": {},
     "output_type": "execute_result"
    }
   ],
   "source": [
    "c[0][:10]"
   ]
  },
  {
   "cell_type": "code",
   "execution_count": 195,
   "id": "6f1daee3-01f0-43d1-b7c7-6e530e37df28",
   "metadata": {},
   "outputs": [],
   "source": [
    "out = mid_parser.MidiFile()\n",
    "out.ticks_per_beat = 1024\n",
    "out.instruments = [ct.Instrument(program=0,is_drum=False,name='reduction')]\n",
    "current_beat=-1\n",
    "for idx1,i in enumerate(c):\n",
    "    for idx2,j in enumerate(i):                    \n",
    "        n=c[idx1][idx2]\n",
    "        if n[0]==0:\n",
    "            current_beat+=1\n",
    "\n",
    "\n",
    "        if c[idx1][idx2][0]!=2:\n",
    "            out.instruments[0].notes.append(ct.Note(start=int(current_beat*4*out.ticks_per_beat+n[1]*out.ticks_per_beat/4),\n",
    "                                                    end=int(current_beat*4*out.ticks_per_beat+n[1]*out.ticks_per_beat/4+n[3]*out.ticks_per_beat/8),\n",
    "                                                    pitch=n[2]+22,\n",
    "                                                    velocity=30))\n",
    "out.dump('token2mid.mid')"
   ]
  },
  {
   "cell_type": "code",
   "execution_count": 196,
   "id": "f25873e0-059e-426e-b6aa-4254f9cefa80",
   "metadata": {},
   "outputs": [
    {
     "data": {
      "text/plain": [
       "array([[ 0,  0, 60, 14],\n",
       "       [ 1,  0, 66, 14],\n",
       "       [ 1,  0, 48, 14],\n",
       "       [ 1,  0, 54, 14],\n",
       "       [ 1,  0, 38, 19],\n",
       "       [ 1,  0, 48,  7],\n",
       "       [ 1,  0, 45, 14],\n",
       "       [ 1,  0, 48, 14],\n",
       "       [ 1,  0, 26, 19],\n",
       "       [ 1,  0, 54,  7]])"
      ]
     },
     "execution_count": 196,
     "metadata": {},
     "output_type": "execute_result"
    }
   ],
   "source": [
    "c[0][:10]"
   ]
  },
  {
   "cell_type": "code",
   "execution_count": 197,
   "id": "edd5d664-0375-44f7-b713-4cc87813f158",
   "metadata": {},
   "outputs": [
    {
     "data": {
      "text/plain": [
       "[Note(start=481, end=711, pitch=82, velocity=55),\n",
       " Note(start=481, end=711, pitch=88, velocity=55),\n",
       " Note(start=482, end=712, pitch=70, velocity=70),\n",
       " Note(start=482, end=712, pitch=76, velocity=70),\n",
       " Note(start=482, end=782, pitch=60, velocity=82),\n",
       " Note(start=482, end=602, pitch=70, velocity=42),\n",
       " Note(start=483, end=713, pitch=70, velocity=70),\n",
       " Note(start=483, end=713, pitch=67, velocity=70),\n",
       " Note(start=484, end=784, pitch=48, velocity=82),\n",
       " Note(start=484, end=604, pitch=76, velocity=42)]"
      ]
     },
     "execution_count": 197,
     "metadata": {},
     "output_type": "execute_result"
    }
   ],
   "source": [
    "a[:10]"
   ]
  },
  {
   "cell_type": "code",
   "execution_count": 198,
   "id": "4027d33d-452d-4708-94b4-f7902ecdaa39",
   "metadata": {},
   "outputs": [
    {
     "data": {
      "text/plain": [
       "[Note(start=0, end=1792, pitch=82, velocity=30),\n",
       " Note(start=0, end=1792, pitch=88, velocity=30),\n",
       " Note(start=0, end=1792, pitch=70, velocity=30),\n",
       " Note(start=0, end=1792, pitch=76, velocity=30),\n",
       " Note(start=0, end=2432, pitch=60, velocity=30),\n",
       " Note(start=0, end=896, pitch=70, velocity=30),\n",
       " Note(start=0, end=1792, pitch=67, velocity=30),\n",
       " Note(start=0, end=1792, pitch=70, velocity=30),\n",
       " Note(start=0, end=2432, pitch=48, velocity=30),\n",
       " Note(start=0, end=896, pitch=76, velocity=30)]"
      ]
     },
     "execution_count": 198,
     "metadata": {},
     "output_type": "execute_result"
    }
   ],
   "source": [
    "out.instruments[0].notes[:10]"
   ]
  },
  {
   "cell_type": "code",
   "execution_count": null,
   "id": "b5671eb7-1d42-4a18-8e6c-ffe629bc5de2",
   "metadata": {},
   "outputs": [],
   "source": []
  }
 ],
 "metadata": {
  "kernelspec": {
   "display_name": "Python 3",
   "language": "python",
   "name": "python3"
  },
  "language_info": {
   "codemirror_mode": {
    "name": "ipython",
    "version": 3
   },
   "file_extension": ".py",
   "mimetype": "text/x-python",
   "name": "python",
   "nbconvert_exporter": "python",
   "pygments_lexer": "ipython3",
   "version": "3.6.13"
  }
 },
 "nbformat": 4,
 "nbformat_minor": 5
}
